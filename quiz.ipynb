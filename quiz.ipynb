{
 "cells": [
  {
   "cell_type": "code",
   "execution_count": null,
   "id": "72c2cc74",
   "metadata": {},
   "outputs": [
    {
     "name": "stdout",
     "output_type": "stream",
     "text": [
      "Hello welcome to my first python quiz!\n",
      "Please answer each question by typing 'A' , 'B', or 'C'\n",
      "\n",
      "How many states are there in Malaysia?\n",
      "A 10\n",
      "B 13\n",
      "C 15\n",
      "Your answer : B\n",
      "Your answer is correct!\n",
      "What is the distance between the earth and the sun\n",
      "A 147.1 million km\n",
      "B 150.1 million km\n",
      "C 200 million km\n"
     ]
    }
   ],
   "source": [
    "#Creating a quiz app with python\n",
    "\n",
    "welcome_header= \"Hello welcome to my first python quiz!\"\n",
    "instructions = \"Please answer each question by typing 'A' , 'B', or 'C'\"\n",
    "\n",
    "q1 = \"\\nHow many states are there in Malaysia?\"\n",
    "q1choices = \"A 10\\nB 13\\nC 15\"\n",
    "\n",
    "q2 = \"What is the distance between the earth and the sun\"\n",
    "q2choices = \"A 147.1 million km\\nB 150.1 million km\\nC 200 million km\"\n",
    "\n",
    "q3 = \"What is six times 12?\"\n",
    "q3choices = \"A 40\\nB 84\\nC 72\"\n",
    "\n",
    "print(welcome_header)\n",
    "print(instructions)\n",
    "\n",
    "\"\"\"def questions(q,qchoice):\n",
    "    print(q + \"\\n\" + qchoices)\n",
    "\n",
    "questions(q1,q1choices)\"\"\"\n",
    "\n",
    "loopgame = \"Y\"\n",
    "\n",
    "while loopgame.upper() == \"Y\":\n",
    "    print(q1 + \"\\n\" + q1choices)\n",
    "    ans1 = input(\"Your answer : \")\n",
    "    if ans1.upper() == \"B\" :\n",
    "        print(\"Your answer is correct!\")\n",
    "    else:\n",
    "        print(\"Your answer is incorrect\")\n",
    "        \n",
    "        \n",
    "    print(q2 + \"\\n\" + q2choices)\n",
    "    ans2 = input(\"Your answer : \")\n",
    "    if ans2.upper() == \"A\" :\n",
    "        print(\"Your answer is correct!\")\n",
    "    else:\n",
    "        print(\"Your answer is incorrect\")\n",
    "        \n",
    "        \n",
    "    print(q3 + \"\\n\" + q3choices)\n",
    "    ans3 = input(\"Your answer : \")\n",
    "    if ans3.upper() == \"C\" :\n",
    "        print(\"Your answer is correct!\")\n",
    "    else:\n",
    "        print(\"Your answer is incorrect\")\n",
    "    \n",
    "    loopgame = input(\"Do you want to do this quiz again?\\ny : yes n: no\\nans:\")\n",
    "\n"
   ]
  }
 ],
 "metadata": {
  "kernelspec": {
   "display_name": "Python 3 (ipykernel)",
   "language": "python",
   "name": "python3"
  },
  "language_info": {
   "codemirror_mode": {
    "name": "ipython",
    "version": 3
   },
   "file_extension": ".py",
   "mimetype": "text/x-python",
   "name": "python",
   "nbconvert_exporter": "python",
   "pygments_lexer": "ipython3",
   "version": "3.9.7"
  }
 },
 "nbformat": 4,
 "nbformat_minor": 5
}
